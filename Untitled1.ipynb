{
  "nbformat": 4,
  "nbformat_minor": 0,
  "metadata": {
    "colab": {
      "provenance": [],
      "authorship_tag": "ABX9TyMGGDfqBX+IbFedVVcCNhVO",
      "include_colab_link": true
    },
    "kernelspec": {
      "name": "python3",
      "display_name": "Python 3"
    },
    "language_info": {
      "name": "python"
    }
  },
  "cells": [
    {
      "cell_type": "markdown",
      "metadata": {
        "id": "view-in-github",
        "colab_type": "text"
      },
      "source": [
        "<a href=\"https://colab.research.google.com/github/derson2458/atividades-do-visualG/blob/main/Untitled1.ipynb\" target=\"_parent\"><img src=\"https://colab.research.google.com/assets/colab-badge.svg\" alt=\"Open In Colab\"/></a>"
      ]
    },
    {
      "cell_type": "code",
      "source": [
        "#qual idade tu tem?\n",
        "idade = int(input(\"Quantos anus voce tem?: \"))\n",
        "\n",
        "if idade <=12:\n",
        "  print(\"Temos este incrivel filme da brabie ára voce\")\n",
        "elif idade >= 13 and idade <= 18:\n",
        "  print (\"Temos mais um filme dos vingadores chefe, esse ta bom\")\n",
        "elif idade >= 19 and idade <= 30:\n",
        "  print (\"maluco, sei que voce vai gostar desse filme do vandaime \")\n",
        "else:\n",
        "  print (\"estamos com uma reprise de o guarda costas aqui\")\n",
        "#quantos ingressos tem\n",
        "ingressos = 2\n",
        "if ingressos > 0:\n",
        "  print(\"TEMOS %s ingressos disponiveis, vai querer?\" % (ingressos))\n",
        "else:\n",
        "  print(\"O problema e que ta lotado ja essa sessão\")"
      ],
      "metadata": {
        "id": "KdNDs5O96-Cp",
        "colab": {
          "base_uri": "https://localhost:8080/"
        },
        "outputId": "982ef1df-1ed7-4f2f-d210-a20f115f6f05"
      },
      "execution_count": 29,
      "outputs": [
        {
          "output_type": "stream",
          "name": "stdout",
          "text": [
            "Quantos anus voce tem?: 35\n",
            "estamos com uma reprise de o guarda costas aqui\n",
            "TEMOS 2 ingressos disponiveis, vai querer?\n"
          ]
        }
      ]
    }
  ]
}